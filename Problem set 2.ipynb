{
 "cells": [
  {
   "cell_type": "markdown",
   "id": "8067fde4",
   "metadata": {},
   "source": [
    "# Question 1\n",
    "\n",
    "Consider the following Python module:\n",
    "\n",
    "What value is displayed when the last expression (a) is evaluated? Explain your \n",
    "answer by indicating what happens in every executed statement."
   ]
  },
  {
   "cell_type": "code",
   "execution_count": 3,
   "id": "19873bd8",
   "metadata": {},
   "outputs": [],
   "source": [
    "a = 0\n",
    "\n",
    "def b():\n",
    "    global a\n",
    "    a = c(a)\n",
    "    \n",
    "def c(a):\n",
    "    return a + 2\n"
   ]
  },
  {
   "cell_type": "code",
   "execution_count": 4,
   "id": "3e6e6681",
   "metadata": {},
   "outputs": [
    {
     "data": {
      "text/plain": [
       "6"
      ]
     },
     "execution_count": 4,
     "metadata": {},
     "output_type": "execute_result"
    }
   ],
   "source": [
    "b()\n",
    "b()\n",
    "b()\n",
    "a"
   ]
  },
  {
   "cell_type": "markdown",
   "id": "65929855",
   "metadata": {},
   "source": [
    "6 is the answer as function b is called 3 times which in turn calls function c where this a is added +2 to its original global value and returned back to b."
   ]
  },
  {
   "cell_type": "markdown",
   "id": "b74a0313",
   "metadata": {},
   "source": [
    "# Question 2\n",
    "\n",
    "Function fileLength(), given to you, takes the name of a file as input and returns \n",
    "the length of the file:\n",
    ">>> fileLength('midterm.py')\n",
    "284\n",
    ">>> fileLength('idterm.py')\n",
    "Traceback (most recent call last):\n",
    "File \"<pyshell#34>\", line 1, in <module>\n",
    "    \n",
    " fileLength('idterm.py')\n",
    "File \"/Users/me/midterm.py\", line 3, in fileLength\n",
    " infile = open(filename)\n",
    "FileNotFoundError: [Errno 2] No such file or directory: \n",
    "'idterm.py'\n",
    "    \n",
    "    \n",
    "As shown above, if the file cannot be found by the interpreter or if it cannot be read \n",
    "as a text file, an exception will be raised. Modify function fileLength() so that a \n",
    "friendly message is printed instead:\n",
    ">>> fileLength('midterm.py')\n",
    "358\n",
    ">>> fileLength('idterm.py')\n",
    "File idterm.py not found.\n",
    "        "
   ]
  },
  {
   "cell_type": "code",
   "execution_count": 5,
   "id": "b334f953",
   "metadata": {
    "scrolled": true
   },
   "outputs": [],
   "source": [
    "filename = \"FileName.txt\"\n",
    "location = \"/Users/me\"\n",
    "\n",
    "\n",
    "def fileLength(filename,location): \n",
    "    for files in os.walk(location):\n",
    "        if filename in files:\n",
    "            file_size = os.path.getsize(filename)\n",
    "            return file_size\n",
    "        else :\n",
    "            return (\"File \",filename,\" not found\")\n",
    "\n",
    "            lengthofFile = \"fileLength(filename,location)\"            \n",
    "            print(lengthofFile)\n",
    "            "
   ]
  },
  {
   "cell_type": "markdown",
   "id": "a9a6b269",
   "metadata": {},
   "source": [
    "# Question 3\n",
    "\n",
    "Write a class named Marsupial that can be used as shown below:\n",
    ">>> m = Marsupial()\n",
    ">>> m.put_in_pouch('doll')\n",
    ">>> m.put_in_pouch('firetruck')\n",
    ">>> m.put_in_pouch('kitten')\n",
    ">>> m.pouch_contents()\n",
    "['doll', 'firetruck', 'kitten']\n",
    "\n",
    "Now write a class named Kangaroo as a subclass of Marsupial that inherits all the \n",
    "attributes of Marsupial and also:\n",
    "a. extends the Marsupial __init__ constructor to take, as input, the \n",
    "coordinates x and y of the Kangaroo object,\n",
    "b. supports method jump that takes number values dx and dy as input and \n",
    "moves the kangaroo by dx units along the x-axis and by dy units along the y\u0002axis, and\n",
    "c. overloads the __str__ operator so it behaves as shown below.\n",
    ">>> k = Kangaroo(0,0)\n",
    ">>> print(k)\n",
    "I am a Kangaroo located at coordinates (0,0)\n",
    ">>> k.put_in_pouch('doll')\n",
    ">>> k.put_in_pouch('firetruck')\n",
    ">>> k.put_in_pouch('kitten')\n",
    ">>> k.pouch_contents()\n",
    "['doll', 'firetruck', 'kitten']\n",
    ">>> k.jump(1,0)\n",
    ">>> k.jump(1,0)\n",
    ">>> k.jump(1,0)\n",
    ">>> print(k)\n",
    "I am a Kangaroo located at coordinates (3,0)\n"
   ]
  },
  {
   "cell_type": "code",
   "execution_count": 2,
   "id": "1267f07e",
   "metadata": {},
   "outputs": [],
   "source": [
    "class Marsupial(object): \n",
    "    def __init__ (self):\n",
    "        self.myList = []\n",
    "    def put_in_pouch(self,inputs) :\n",
    "        self.myList.append(inputs)\n",
    "    def pouch_contents(self):\n",
    "        print(self.Mylist)\n",
    "class Kangaroo(Marsupial):\n",
    "    def __init__(self,x,y) :\n",
    "        super().__init__(x,y)\n",
    "        self.xcoordinate = 0\n",
    "        self.xcoordinate = 0\n",
    "    def jump(self,x,y) :\n",
    "        self.xcoordinate = self.xcoordinate + x\n",
    "        self.ycoordinate = self.ycoordinate + y\n",
    "        print(\"I am Kangaroo located at coordinates (\",self.xcoordinate,\",\",self.ycoordinate,\")\")\n"
   ]
  },
  {
   "cell_type": "markdown",
   "id": "a32870aa",
   "metadata": {},
   "source": [
    "# Question 4\n",
    "\n",
    "Write function collatz() that takes a positive integer x as input and prints the \n",
    "Collatz sequence starting at x. A Collatz sequence is obtained by repeatedly applying \n",
    "this rule to the previous number x in the sequence:\n",
    "x = {\n",
    "𝑥/2 𝑖𝑓 𝑥 𝑖𝑠 𝑒𝑣𝑒𝑛\n",
    "3𝑥 + 1 𝑖𝑓 𝑥 𝑖𝑠 𝑜𝑑𝑑\n",
    "Your function should stop when the sequence gets to number 1. Your \n",
    "implementation must be recursive, without any loops.\n",
    "\n",
    ">>> collatz(1)\n",
    "1\n",
    "\n",
    ">>> collatz(10)\n",
    "10\n",
    "5\n",
    "16\n",
    "8\n",
    "4\n",
    "2\n",
    "1\n"
   ]
  },
  {
   "cell_type": "code",
   "execution_count": 66,
   "id": "2c348626",
   "metadata": {
    "scrolled": false
   },
   "outputs": [
    {
     "name": "stdout",
     "output_type": "stream",
     "text": [
      "5.0\n",
      "16.0\n",
      "8.0\n",
      "4.0\n",
      "2.0\n",
      "1.0\n"
     ]
    }
   ],
   "source": [
    "collatz = n\n",
    "n = 10\n",
    "while n != 1:\n",
    "    if n % 2 == 0:\n",
    "        n = n/2\n",
    "        \n",
    "    else :\n",
    "        n = 3 * n + 1\n",
    "    print(n)\n"
   ]
  },
  {
   "cell_type": "code",
   "execution_count": 17,
   "id": "d28f8060",
   "metadata": {},
   "outputs": [],
   "source": [
    "n = 1\n",
    "while n != 1:\n",
    "    if n % 2 == 0:\n",
    "        n = n/2\n",
    "    \n",
    "    else :\n",
    "        n = 3 * n + 1\n",
    "    print(n)\n"
   ]
  },
  {
   "cell_type": "code",
   "execution_count": 16,
   "id": "f0299192",
   "metadata": {},
   "outputs": [
    {
     "name": "stdout",
     "output_type": "stream",
     "text": [
      "1\n"
     ]
    }
   ],
   "source": [
    "print(n)"
   ]
  },
  {
   "cell_type": "markdown",
   "id": "7e2efb74",
   "metadata": {},
   "source": [
    "# Question 5\n",
    "\n",
    "Write a recursive method binary() that takes a non-negative \n",
    "integer n and prints the binary representation of integer n.\n",
    ">>> binary(0)\n",
    "0\n",
    "\n",
    ">>> binary(1)\n",
    "1\n",
    "\n",
    ">>> binary(3)\n",
    "11\n",
    "\n",
    ">>> binary(9)\n",
    "1001\n"
   ]
  },
  {
   "cell_type": "code",
   "execution_count": 3,
   "id": "1abd71ec",
   "metadata": {
    "scrolled": false
   },
   "outputs": [
    {
     "name": "stdout",
     "output_type": "stream",
     "text": [
      "0\n",
      "1\n",
      "11\n",
      "1001\n"
     ]
    }
   ],
   "source": [
    "def binary (n):\n",
    "    \n",
    "    if n == 0:\n",
    "        return 0\n",
    "        \n",
    "    elif(n>0):\n",
    "        return (n % 2 + 10 *binary(int(n // 2)))\n",
    "        \n",
    "    else :\n",
    "        return binary(n)\n",
    "    \n",
    "n = 0\n",
    "print(binary(n))\n",
    "\n",
    "n = 1\n",
    "print(binary(n))\n",
    "\n",
    "n = 3\n",
    "print(binary(n))\n",
    "\n",
    "n = 9\n",
    "print(binary(n))"
   ]
  },
  {
   "cell_type": "markdown",
   "id": "61f8308c",
   "metadata": {},
   "source": [
    "# Question 8\n",
    "\n",
    "Write SQL queries on the below database table that return: \n",
    "a) All the temperature data.\n",
    "b) All the cities, but without repetition.\n",
    "c) All the records for India.\n",
    "d) All the Fall records.\n",
    "e) The city, country, and season for which the average rainfall is between 200 \n",
    "and 400 millimeters.\n",
    "f) The city and country for which the average Fall temperature is above 20 \n",
    "degrees, in increasing temperature order.\n",
    "g) The total annual rainfall for Cairo.\n",
    "h) The total rainfall for each season.\n"
   ]
  },
  {
   "cell_type": "markdown",
   "id": "90de9de3",
   "metadata": {},
   "source": [
    "# Answer\n",
    "Considering the table name to be temperature\n",
    "\n",
    "a) Select * from temperature \n",
    "\n",
    "b) Select Distinct (City) from temperature where City is not null\n",
    "\n",
    "c)Select * from temperature where Country = ‘India’\n",
    "\n",
    "d)Select * from temperature where Season = ‘Fall’\n",
    "\n",
    "e) Select City,Country,Season from temperature where Rainfall >=200 and Rainfall <=400\n",
    "\n",
    "f) Select City,Country,Temperature from temperature where Season = ‘Fall’ and Temperature > 20 order by Temperature ASC\n",
    "\n",
    "g) Select SUM (Rainfall) from temperature where City = ‘Cairo’\n",
    "\n",
    "h) Select SUM (Rainfall),Season from temperature GROUP BY Season\n"
   ]
  },
  {
   "cell_type": "markdown",
   "id": "6539ed51",
   "metadata": {},
   "source": [
    "# Question 9\n",
    "\n",
    " Suppose list words is defined as follows:\n",
    ">>> words = ['The', 'quick', 'brown', 'fox', 'jumps', 'over', \n",
    "'the', 'lazy', 'dog']\n",
    "\n",
    "Write list comprehension expressions that use list words and generate the following \n",
    "lists:\n",
    "\n",
    "a) ['THE', 'QUICK', 'BROWN', 'FOX', 'JUMPS', 'OVER', 'THE', \n",
    "'LAZY', 'DOG']\n",
    "\n",
    "b) ['the', 'quick', 'brown', 'fox', 'jumps', 'over', 'the', \n",
    "'lazy', 'dog']\n",
    "\n",
    "c) [3, 5, 5, 3, 5, 4, 3, 4, 3] (the list of lengths of words in list \n",
    "words).\n",
    "\n",
    "d) [['THE', 'the', 3], ['QUICK', 'quick', 5], ['BROWN', \n",
    "'brown', 5], ['FOX', 'fox', 3], ['JUMPS', 'jumps', 5], \n",
    "['OVER', 'over', 4], ['THE', 'the', 3], ['LAZY', 'lazy', \n",
    "\n",
    "4], ['DOG', 'dog', 3]] (the list containing a list for every word of list \n",
    "words, where each list contains the word in uppercase and lowercase and the \n",
    "length of the word.)\n",
    "\n",
    "e) ['The', 'quick', 'brown', 'fox', 'jumps', 'over', 'the', \n",
    "'lazy', 'dog'] (the list of words in list words containing 4 or more \n",
    "characters.)"
   ]
  },
  {
   "cell_type": "markdown",
   "id": "bc080123",
   "metadata": {},
   "source": [
    "# Answer\n",
    "\n",
    "words = ['The', 'quick', 'brown', 'fox', 'jumps', 'over', \n",
    "'the', 'lazy', 'dog']\n",
    "\n",
    "A ) words =\t[x.upper() for x in words]\n",
    "\n",
    "B ) words = [x.lower() for x in words]\n",
    "\n",
    "C ) words = [x.length() for x in words]\n",
    "\n",
    "D ) words = [[x.upper() for x in words,x.lower() for x in words,x.length() for x in words]] "
   ]
  }
 ],
 "metadata": {
  "kernelspec": {
   "display_name": "Python 3 (ipykernel)",
   "language": "python",
   "name": "python3"
  },
  "language_info": {
   "codemirror_mode": {
    "name": "ipython",
    "version": 3
   },
   "file_extension": ".py",
   "mimetype": "text/x-python",
   "name": "python",
   "nbconvert_exporter": "python",
   "pygments_lexer": "ipython3",
   "version": "3.9.7"
  }
 },
 "nbformat": 4,
 "nbformat_minor": 5
}
